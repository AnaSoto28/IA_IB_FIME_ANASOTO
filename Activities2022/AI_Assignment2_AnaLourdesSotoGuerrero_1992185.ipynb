{
  "nbformat": 4,
  "nbformat_minor": 0,
  "metadata": {
    "colab": {
      "provenance": [],
      "collapsed_sections": []
    },
    "kernelspec": {
      "name": "python3",
      "display_name": "Python 3"
    },
    "language_info": {
      "name": "python"
    }
  },
  "cells": [
    {
      "cell_type": "markdown",
      "source": [
        "# **A2: Python exercises**\n",
        "***Name:*** Ana Lourdes Soto Guerrero  \n",
        "***Student Number:*** 1992185  \n",
        "***Class Hour:*** Tuesday N4 - N6"
      ],
      "metadata": {
        "id": "2TJszBY6LYyf"
      }
    },
    {
      "cell_type": "markdown",
      "source": [
        "***Exercise 1:*** Create a python script where the user is going to be asked for the name. After that, the program will greet the user with the given name. Only exception: the script will not greet the user if the given name is \"Ana\", \"John\" or \"Peter\".\n"
      ],
      "metadata": {
        "id": "y_C-hgik1I3c"
      }
    },
    {
      "cell_type": "code",
      "execution_count": 8,
      "metadata": {
        "id": "6Ftt9SEmIUEX",
        "colab": {
          "base_uri": "https://localhost:8080/"
        },
        "outputId": "20da8b64-15ad-4fdc-e9b5-32350deedb70"
      },
      "outputs": [
        {
          "output_type": "stream",
          "name": "stdout",
          "text": [
            "What is your name?: John\n",
            "Sorry, can´t say hi\n"
          ]
        }
      ],
      "source": [
        "\"\"\"Name: Ana Lourdes Soto Guerrero   ID: 1992185\"\"\"\n",
        "\n",
        "message = input(\"What is your name?: \")\n",
        "if message == \"Ana\":\n",
        "   print(\"Sorry, can´t say hi\") \n",
        "elif message == \"John\":\n",
        "   print(\"Sorry, can´t say hi\") \n",
        "elif message == \"Peter\":\n",
        "   print(\"Sorry, can´t say hi\") \n",
        "else: \n",
        "   print(\"Hello\", message, \"have a nice day.\")"
      ]
    },
    {
      "cell_type": "markdown",
      "source": [
        "***Exercise 2:*** Create a function in a pyhton script that returns (print) the last element of a given list, reverts the order of the list and finally returns (print) the reverted list. "
      ],
      "metadata": {
        "id": "xLFZ7a3m1jlk"
      }
    },
    {
      "cell_type": "code",
      "source": [
        "\"\"\"Name: Ana Lourdes Soto Guerrero   ID: 1992185\"\"\"\n",
        "\n",
        "List = [\"Pink\", \"Blue\", \"Orange\", \"Green\", \"Red\"]\n",
        "NewList = List[::-1]\n",
        "print(\"The last element of the original given list is:\", List[-1])\n",
        "print(\"The final reverted list is:\", NewList)"
      ],
      "metadata": {
        "colab": {
          "base_uri": "https://localhost:8080/"
        },
        "id": "pygP4Hog11ca",
        "outputId": "ac7fda7d-de6e-410f-f23b-076052dd48cd"
      },
      "execution_count": 5,
      "outputs": [
        {
          "output_type": "stream",
          "name": "stdout",
          "text": [
            "The last element of the original given list is: Red\n",
            "The final reverted list is: ['Red', 'Green', 'Orange', 'Blue', 'Pink']\n"
          ]
        }
      ]
    },
    {
      "cell_type": "markdown",
      "source": [
        "***Exercise 3:*** Create a function in a python script that takes a list of strings as input and then it prints, line by line, the whole list in a rectangular shape."
      ],
      "metadata": {
        "id": "zzBekPNd9W7z"
      }
    },
    {
      "cell_type": "code",
      "source": [
        "\"\"\"Name: Ana Lourdes Soto Guerrero   ID: 1992185\"\"\"\n",
        "\n",
        "List = [\"Hello\", \"My\", \"Is\", \"Name\", \"Ana\", \"Wish\", \"You\", \"Good\", \"Luck\"]\n",
        "\n",
        "def frame(words):\n",
        "    size = len(max(words, key=len))\n",
        "    print('*' * (size + 4))\n",
        "    for word in words:\n",
        "        print('* {a:<{b}} *'.format(a=word, b=size))\n",
        "    print('*' * (size + 4))\n",
        "\n",
        "frame(List)"
      ],
      "metadata": {
        "colab": {
          "base_uri": "https://localhost:8080/"
        },
        "id": "snl5D3Tz7f35",
        "outputId": "53863217-d90a-4987-c7c6-c67cd1964a24"
      },
      "execution_count": 11,
      "outputs": [
        {
          "output_type": "stream",
          "name": "stdout",
          "text": [
            "*********\n",
            "* Hello *\n",
            "* My    *\n",
            "* Is    *\n",
            "* Name  *\n",
            "* Ana   *\n",
            "* Wish  *\n",
            "* You   *\n",
            "* Good  *\n",
            "* Luck  *\n",
            "*********\n"
          ]
        }
      ]
    }
  ]
}